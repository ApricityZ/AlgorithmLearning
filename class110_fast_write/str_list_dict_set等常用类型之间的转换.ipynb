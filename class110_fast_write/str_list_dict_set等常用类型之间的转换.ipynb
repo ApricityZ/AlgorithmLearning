{
 "cells": [
  {
   "cell_type": "markdown",
   "source": [
    "当然，我们接着上次的话题，深入探讨 `str`, `list`, `dict`, `set`, `tuple` 这些常用容器类型之间的转换。这些转换在数据处理中非常频繁。\n",
    "\n",
    "### (1) 转换为列表 (`list`)\n",
    "\n",
    "使用 `list()` 函数，可以将任何可迭代 (iterable) 的对象转换为列表。\n",
    "\n",
    "  * **从字符串 (`str`) 转换:**\n",
    "    字符串会被拆分成一个包含单个字符的列表。"
   ],
   "metadata": {
    "id": "e_AIZUyumQ15"
   }
  },
  {
   "cell_type": "code",
   "source": [
    "my_str = \"hello\"\n",
    "char_list = list(my_str)\n",
    "print(f'\"{my_str}\" 转换为 list: {char_list}')\n",
    "# 输出: \"hello\" 转换为 list: ['h', 'e', 'l', 'l', 'o']"
   ],
   "metadata": {
    "id": "nbnCUeI1mQ16",
    "ExecuteTime": {
     "end_time": "2025-09-02T13:26:05.145611Z",
     "start_time": "2025-09-02T13:26:05.141610Z"
    }
   },
   "outputs": [
    {
     "name": "stdout",
     "output_type": "stream",
     "text": [
      "\"hello\" 转换为 list: ['h', 'e', 'l', 'l', 'o']\n"
     ]
    }
   ],
   "execution_count": 2
  },
  {
   "cell_type": "markdown",
   "source": [
    "* **从元组 (`tuple`) 或集合 (`set`) 转换:**\n",
    "    元组或集合中的每个元素会成为列表的一个元素。注意，从集合转换时，列表元素的顺序是不保证的（尽管在较新的 Python 版本中通常会保持插入顺序）。"
   ],
   "metadata": {
    "id": "Wm-9EWJqmQ17"
   }
  },
  {
   "cell_type": "code",
   "source": [
    "my_tuple = (1, 'a', 3.14)\n",
    "list_from_tuple = list(my_tuple)\n",
    "print(f\"{my_tuple} 转换为 list: {list_from_tuple}\")\n",
    "# 输出: (1, 'a', 3.14) 转换为 list: [1, 'a', 3.14]\n",
    "\n",
    "my_set = {'apple', 'banana', 'orange'}\n",
    "list_from_set = list(my_set)\n",
    "print(f\"{my_set} 转换为 list: {list_from_set}\")\n",
    "# 输出: {'apple', 'orange', 'banana'} 转换为 list: ['apple', 'orange', 'banana'] (顺序可能不同)"
   ],
   "metadata": {
    "id": "buaC0LoDmQ17",
    "ExecuteTime": {
     "end_time": "2025-09-02T13:26:05.239306Z",
     "start_time": "2025-09-02T13:26:05.235307Z"
    }
   },
   "outputs": [
    {
     "name": "stdout",
     "output_type": "stream",
     "text": [
      "(1, 'a', 3.14) 转换为 list: [1, 'a', 3.14]\n",
      "{'banana', 'apple', 'orange'} 转换为 list: ['banana', 'apple', 'orange']\n"
     ]
    }
   ],
   "execution_count": 3
  },
  {
   "cell_type": "markdown",
   "source": [
    "* **从字典 (`dict`) 转换:**\n",
    "    默认情况下，只有字典的**键 (keys)** 会被转换到列表中。"
   ],
   "metadata": {
    "id": "1xbnoMUumQ17"
   }
  },
  {
   "cell_type": "code",
   "source": [
    "my_dict = {'name': 'Alice', 'age': 30}\n",
    "\n",
    "# 默认只转换键\n",
    "list_from_keys = list(my_dict)\n",
    "print(f\"默认从 dict 转换: {list_from_keys}\")\n",
    "# 输出: 默认从 dict 转换: ['name', 'age']\n",
    "\n",
    "# 明确转换值 (values)\n",
    "list_from_values = list(my_dict.values())\n",
    "print(f\"从 dict 的 values 转换: {list_from_values}\")\n",
    "# 输出: 从 dict 的 values 转换: ['Alice', 30]\n",
    "\n",
    "# 转换键值对 (items)\n",
    "list_from_items = list(my_dict.items())\n",
    "print(f\"从 dict 的 items 转换: {list_from_items}\")\n",
    "# 输出: 从 dict 的 items 转换: [('name', 'Alice'), ('age', 30)]"
   ],
   "metadata": {
    "id": "kgVd_Kb3mQ17",
    "ExecuteTime": {
     "end_time": "2025-09-02T13:26:05.275757Z",
     "start_time": "2025-09-02T13:26:05.271416Z"
    }
   },
   "outputs": [
    {
     "name": "stdout",
     "output_type": "stream",
     "text": [
      "默认从 dict 转换: ['name', 'age']\n",
      "从 dict 的 values 转换: ['Alice', 30]\n",
      "从 dict 的 items 转换: [('name', 'Alice'), ('age', 30)]\n"
     ]
    }
   ],
   "execution_count": 4
  },
  {
   "cell_type": "markdown",
   "source": [
    "-----\n",
    "\n",
    "### (2) 转换为元组 (`tuple`)\n",
    "\n",
    "使用 `tuple()` 函数，与 `list()` 类似，可以将任何可迭代对象转换为元组。元组是不可变的列表。"
   ],
   "metadata": {
    "id": "mozd1lMumQ18"
   }
  },
  {
   "cell_type": "code",
   "source": [
    "my_str = \"python\"\n",
    "my_list = [1, 2, 3]\n",
    "my_set = {1, 2, 3}\n",
    "my_dict = {'a': 1, 'b': 2}\n",
    "\n",
    "print(f'\"{my_str}\" 转换为 tuple: {tuple(my_str)}')\n",
    "# 输出: \"python\" 转换为 tuple: ('p', 'y', 't', 'h', 'o', 'n')\n",
    "\n",
    "print(f\"{my_list} 转换为 tuple: {tuple(my_list)}\")\n",
    "# 输出: [1, 2, 3] 转换为 tuple: (1, 2, 3)\n",
    "\n",
    "# 注意：从字典转换同样默认使用键\n",
    "print(f\"{my_dict} 转换为 tuple: {tuple(my_dict)}\")\n",
    "# 输出: {'a': 1, 'b': 2} 转换为 tuple: ('a', 'b')"
   ],
   "metadata": {
    "id": "bO9AO4c6mQ18",
    "ExecuteTime": {
     "end_time": "2025-09-02T13:26:05.316272Z",
     "start_time": "2025-09-02T13:26:05.312256Z"
    }
   },
   "outputs": [
    {
     "name": "stdout",
     "output_type": "stream",
     "text": [
      "\"python\" 转换为 tuple: ('p', 'y', 't', 'h', 'o', 'n')\n",
      "[1, 2, 3] 转换为 tuple: (1, 2, 3)\n",
      "{'a': 1, 'b': 2} 转换为 tuple: ('a', 'b')\n"
     ]
    }
   ],
   "execution_count": 5
  },
  {
   "cell_type": "markdown",
   "source": [
    "-----\n",
    "\n",
    "### (3) 转换为集合 (`set`)\n",
    "\n",
    "使用 `set()` 函数，可以将可迭代对象转换为集合。集合最重要的两个特性是：**元素无序** 和 **元素唯一（自动去重）**。\n",
    "\n",
    "  * **从字符串 (`str`) 或列表 (`list`) 转换 (自动去重):**"
   ],
   "metadata": {
    "id": "yn9LH2wamQ18"
   }
  },
  {
   "cell_type": "code",
   "source": [
    "str_with_duplicates = \"hello world\"\n",
    "set_from_str = set(str_with_duplicates)\n",
    "print(f'\"{str_with_duplicates}\" 转换为 set: {set_from_str}')\n",
    "# 输出: \"hello world\" 转换为 set: {'r', 'e', 'w', 'h', ' ', 'd', 'l', 'o'} (顺序随机且无重复)\n",
    "\n",
    "list_with_duplicates = [1, 2, 3, 2, 1, 4]\n",
    "set_from_list = set(list_with_duplicates)\n",
    "print(f\"{list_with_duplicates} 转换为 set: {set_from_list}\")\n",
    "# 输出: [1, 2, 3, 2, 1, 4] 转换为 set: {1, 2, 3, 4}"
   ],
   "metadata": {
    "id": "nTsiRQjDmQ19",
    "ExecuteTime": {
     "end_time": "2025-09-02T13:26:05.351969Z",
     "start_time": "2025-09-02T13:26:05.346892Z"
    }
   },
   "outputs": [
    {
     "name": "stdout",
     "output_type": "stream",
     "text": [
      "\"hello world\" 转换为 set: {' ', 'r', 'w', 'h', 'o', 'l', 'd', 'e'}\n",
      "[1, 2, 3, 2, 1, 4] 转换为 set: {1, 2, 3, 4}\n"
     ]
    }
   ],
   "execution_count": 6
  },
  {
   "cell_type": "markdown",
   "source": [
    "* **从字典 (`dict`) 转换:**\n",
    "    同样，默认只转换字典的**键 (keys)**。"
   ],
   "metadata": {
    "id": "XuSn3HN4mQ19"
   }
  },
  {
   "cell_type": "code",
   "source": [
    "my_dict = {'a': 1, 'b': 2}\n",
    "set_from_dict = set(my_dict)\n",
    "print(f\"{my_dict} 转换为 set: {set_from_dict}\")\n",
    "# 输出: {'a': 1, 'b': 2} 转换为 set: {'b', 'a'}"
   ],
   "metadata": {
    "id": "7cwTm8idmQ19",
    "ExecuteTime": {
     "end_time": "2025-09-02T13:26:05.390440Z",
     "start_time": "2025-09-02T13:26:05.386974Z"
    }
   },
   "outputs": [
    {
     "name": "stdout",
     "output_type": "stream",
     "text": [
      "{'a': 1, 'b': 2} 转换为 set: {'b', 'a'}\n"
     ]
    }
   ],
   "execution_count": 7
  },
  {
   "cell_type": "markdown",
   "source": [
    "-----\n",
    "\n",
    "### (4) 转换为字典 (`dict`)\n",
    "\n",
    "使用 `dict()` 函数的转换最为特殊，因为它要求源数据的结构必须是 **键值对 (key-value pairs)** 的形式。\n",
    "\n",
    "  * **从包含键值对的列表/元组转换:**\n",
    "    这是最常见的用法。源必须是一个可迭代对象，其每个元素本身又是一个包含两个元素（键和值）的可迭代对象。"
   ],
   "metadata": {
    "id": "j4J_v28AmQ19"
   }
  },
  {
   "cell_type": "code",
   "source": [
    "list_of_pairs = [('name', 'Bob'), ('age', 25)]\n",
    "dict_from_list = dict(list_of_pairs)\n",
    "print(f\"{list_of_pairs} 转换为 dict: {dict_from_list}\")\n",
    "# 输出: [('name', 'Bob'), ('age', 25)] 转换为 dict: {'name': 'Bob', 'age': 25}\n",
    "\n",
    "tuple_of_pairs = (['x', 1], ['y', 2])\n",
    "dict_from_tuple = dict(tuple_of_pairs)\n",
    "print(f\"{tuple_of_pairs} 转换为 dict: {dict_from_tuple}\")\n",
    "# 输出: (['x', 1], ['y', 2]) 转换为 dict: {'x': 1, 'y': 2}"
   ],
   "metadata": {
    "id": "GGUHSQ8wmQ19",
    "ExecuteTime": {
     "end_time": "2025-09-02T13:26:05.419103Z",
     "start_time": "2025-09-02T13:26:05.413539Z"
    }
   },
   "outputs": [
    {
     "name": "stdout",
     "output_type": "stream",
     "text": [
      "[('name', 'Bob'), ('age', 25)] 转换为 dict: {'name': 'Bob', 'age': 25}\n",
      "(['x', 1], ['y', 2]) 转换为 dict: {'x': 1, 'y': 2}\n"
     ]
    }
   ],
   "execution_count": 8
  },
  {
   "cell_type": "markdown",
   "source": [
    "* **使用 `zip()` 函数从两个列表创建:**\n",
    "    `zip()` 函数可以将两个列表对应位置的元素打包成一个个元组，非常适合创建字典。"
   ],
   "metadata": {
    "id": "DWggmTCJmQ19"
   }
  },
  {
   "cell_type": "code",
   "source": [
    "keys = ['a', 'b', 'c']\n",
    "values = [1, 2, 3]\n",
    "\n",
    "# zip(keys, values) 会生成 ('a', 1), ('b', 2), ('c', 3)\n",
    "my_dict = dict(zip(keys, values))\n",
    "print(f\"使用 zip({keys}, {values}) 转换为 dict: {my_dict}\")\n",
    "# 输出: 使用 zip(['a', 'b', 'c'], [1, 2, 3]) 转换为 dict: {'a': 1, 'b': 2, 'c': 3}"
   ],
   "metadata": {
    "id": "3gJuNCKKmQ19",
    "ExecuteTime": {
     "end_time": "2025-09-02T13:26:05.461235Z",
     "start_time": "2025-09-02T13:26:05.457887Z"
    }
   },
   "outputs": [
    {
     "name": "stdout",
     "output_type": "stream",
     "text": [
      "使用 zip(['a', 'b', 'c'], [1, 2, 3]) 转换为 dict: {'a': 1, 'b': 2, 'c': 3}\n"
     ]
    }
   ],
   "execution_count": 9
  },
  {
   "cell_type": "markdown",
   "source": [
    "* **无效的转换:**\n",
    "    无法将简单的字符串或列表直接转换为字典，因为它们不具备键值对结构。"
   ],
   "metadata": {
    "id": "itjQtZnLmQ19"
   }
  },
  {
   "cell_type": "code",
   "source": [
    "try:\n",
    "    dict(\"hello\") # 会引发错误\n",
    "except (TypeError, ValueError) as e:\n",
    "    print(f'dict(\"hello\") 转换失败: {e}')"
   ],
   "metadata": {
    "id": "jk-i-guAmQ19",
    "ExecuteTime": {
     "end_time": "2025-09-02T13:26:05.500106Z",
     "start_time": "2025-09-02T13:26:05.496106Z"
    }
   },
   "outputs": [
    {
     "name": "stdout",
     "output_type": "stream",
     "text": [
      "dict(\"hello\") 转换失败: dictionary update sequence element #0 has length 1; 2 is required\n"
     ]
    }
   ],
   "execution_count": 10
  },
  {
   "cell_type": "markdown",
   "source": [
    "-----\n",
    "\n",
    "### (5) 集合类型转换为字符串 (`str`)\n",
    "\n",
    "这部分需要特别注意，`str()` 函数和字符串的 `join()` 方法有本质区别。\n",
    "\n",
    "  * **使用 `str()` 函数:**\n",
    "    将整个容器对象转换为其“打印形式”的字符串，包含括号、引号等。"
   ],
   "metadata": {
    "id": "VHIsbFl5mQ1-"
   }
  },
  {
   "cell_type": "code",
   "source": [
    "my_list = ['a', 'b', 'c']\n",
    "my_set = {1, 2, 3}\n",
    "\n",
    "str_repr_list = str(my_list)\n",
    "str_repr_set = str(my_set)\n",
    "\n",
    "print(f\"{my_list} 通过 str() 转换后: {str_repr_list} (类型: {type(str_repr_list)})\")\n",
    "# 输出: ['a', 'b', 'c'] 通过 str() 转换后: ['a', 'b', 'c'] (类型: <class 'str'>)\n",
    "\n",
    "print(f\"{my_set} 通过 str() 转换后: {str_repr_set} (类型: {type(str_repr_set)})\")\n",
    "# 输出: {1, 2, 3} 通过 str() 转换后: {1, 2, 3} (类型: <class 'str'>)"
   ],
   "metadata": {
    "id": "ZXlKavGEmQ1-",
    "ExecuteTime": {
     "end_time": "2025-09-02T13:26:05.546647Z",
     "start_time": "2025-09-02T13:26:05.542676Z"
    }
   },
   "outputs": [
    {
     "name": "stdout",
     "output_type": "stream",
     "text": [
      "['a', 'b', 'c'] 通过 str() 转换后: ['a', 'b', 'c'] (类型: <class 'str'>)\n",
      "{1, 2, 3} 通过 str() 转换后: {1, 2, 3} (类型: <class 'str'>)\n"
     ]
    }
   ],
   "execution_count": 11
  },
  {
   "cell_type": "markdown",
   "source": [
    "* **使用 `join()` 方法 (推荐):**\n",
    "    如果你想将容器内的**元素连接**成一个字符串，`join()` 方法是正确的选择。它要求容器内所有元素都必须是字符串类型。\n",
    "\n",
    "    `'连接符'.join(可迭代对象)`"
   ],
   "metadata": {
    "id": "I1quPA76mQ1_"
   }
  },
  {
   "cell_type": "code",
   "source": [
    "char_list = ['p', 'y', 't', 'h', 'o', 'n']\n",
    "\n",
    "# 使用空字符串作为连接符\n",
    "word = \"\".join(char_list)\n",
    "print(f\"{char_list} 通过 ''.join() 转换后: {word}\")\n",
    "# 输出: ['p', 'y', 't', 'h', 'o', 'n'] 通过 ''.join() 转换后: python\n",
    "\n",
    "# 使用短横线作为连接符\n",
    "dashed_word = \"-\".join(char_list)\n",
    "print(f\"{char_list} 通过 '-'.join() 转换后: {dashed_word}\")\n",
    "# 输出: ['p', 'y', 't', 'h', 'o', 'n'] 通过 '-'.join() 转换后: p-y-t-h-o-n\n",
    "\n",
    "# 如果列表内不是字符串，需要先转换\n",
    "num_list = [1, 2, 3, 4, 5]\n",
    "# 错误用法: \",\".join(num_list) 会报错 TypeError\n",
    "# 正确用法：使用列表推导式或生成器表达式\n",
    "str_num = \",\".join(str(x) for x in num_list)\n",
    "print(f\"{num_list} 转换为字符串: '{str_num}'\")\n",
    "# 输出: [1, 2, 3, 4, 5] 转换为字符串: '1,2,3,4,5'"
   ],
   "metadata": {
    "id": "ATseId4ymQ1_",
    "ExecuteTime": {
     "end_time": "2025-09-02T13:26:05.590238Z",
     "start_time": "2025-09-02T13:26:05.585191Z"
    }
   },
   "outputs": [
    {
     "name": "stdout",
     "output_type": "stream",
     "text": [
      "['p', 'y', 't', 'h', 'o', 'n'] 通过 ''.join() 转换后: python\n",
      "['p', 'y', 't', 'h', 'o', 'n'] 通过 '-'.join() 转换后: p-y-t-h-o-n\n",
      "[1, 2, 3, 4, 5] 转换为字符串: '1,2,3,4,5'\n"
     ]
    }
   ],
   "execution_count": 12
  },
  {
   "metadata": {
    "ExecuteTime": {
     "end_time": "2025-09-02T13:29:14.525384Z",
     "start_time": "2025-09-02T13:29:14.518386Z"
    }
   },
   "cell_type": "code",
   "source": "list('1,2,3,4,5')",
   "outputs": [
    {
     "data": {
      "text/plain": [
       "['1', ',', '2', ',', '3', ',', '4', ',', '5']"
      ]
     },
     "execution_count": 13,
     "metadata": {},
     "output_type": "execute_result"
    }
   ],
   "execution_count": 13
  },
  {
   "metadata": {
    "ExecuteTime": {
     "end_time": "2025-09-02T13:30:43.644202Z",
     "start_time": "2025-09-02T13:30:43.640205Z"
    }
   },
   "cell_type": "code",
   "source": [
    "list_ans = list()\n",
    "for char in '1,2,3,4,5':\n",
    "    list_ans.append(char)\n",
    "    print(char)"
   ],
   "outputs": [
    {
     "name": "stdout",
     "output_type": "stream",
     "text": [
      "1\n",
      ",\n",
      "2\n",
      ",\n",
      "3\n",
      ",\n",
      "4\n",
      ",\n",
      "5\n"
     ]
    }
   ],
   "execution_count": 16
  },
  {
   "cell_type": "markdown",
   "source": [
    "### 总结表\n",
    "\n",
    "| 源类型 (`From`) | `list()` | `tuple()` | `set()` | `dict()` |\n",
    "| :--- | :--- | :--- | :--- | :--- |\n",
    "| **`str`** | `['h','e','l']` | `('h','e','l')` | `{'h','e','l'}` (去重) | 错误 |\n",
    "| **`list`** | （本身） | `(1,2,3)` | `{1,2,3}` (去重) | `dict([('a',1)])` (要求元素为键值对) |\n",
    "| **`tuple`** | `[1,2,3]` | （本身） | `{1,2,3}` (去重) | `dict((('a',1),))` (要求元素为键值对) |\n",
    "| **`set`** | `[1,2,3]` (顺序不定) | `(1,2,3)` (顺序不定) | （本身） | 错误 |\n",
    "| **`dict`** | `['k1','k2']` (键) | `('k1','k2')` (键) | `{'k1','k2'}` (键) | （本身） |"
   ],
   "metadata": {
    "id": "VAIMLUHxmQ1_"
   }
  }
 ],
 "metadata": {
  "colab": {
   "provenance": []
  },
  "kernelspec": {
   "display_name": "Python 3 (ipykernel)",
   "name": "python3",
   "language": "python"
  }
 },
 "nbformat": 4,
 "nbformat_minor": 0
}
